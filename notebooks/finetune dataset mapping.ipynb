{
 "cells": [
  {
   "cell_type": "code",
   "execution_count": 2,
   "id": "b8040096",
   "metadata": {},
   "outputs": [
    {
     "name": "stdout",
     "output_type": "stream",
     "text": [
      "Done! Updated CSV saved\n"
     ]
    }
   ],
   "source": [
    "import pandas as pd\n",
    "import json\n",
    "\n",
    "# Load the CSV file\n",
    "df = pd.read_csv('symptom-disease-train-dataset.csv')\n",
    "\n",
    "# Load the JSON mapping\n",
    "with open('mapping(1).json', 'r') as f:\n",
    "    mapping = json.load(f)\n",
    "\n",
    "# Reverse the mapping: ID -> Disease Name\n",
    "id_to_disease = {v: k for k, v in mapping.items()}\n",
    "\n",
    "# Replace 'disease' column IDs with names\n",
    "df['label'] = df['label'].map(id_to_disease)\n",
    "\n",
    "# Save the updated CSV\n",
    "df.to_csv('symptom-disease-train-dataset-updated.csv', index=False)\n",
    "\n",
    "print(\"Done! Updated CSV saved\")"
   ]
  },
  {
   "cell_type": "code",
   "execution_count": 5,
   "id": "5847801d",
   "metadata": {},
   "outputs": [
    {
     "name": "stdout",
     "output_type": "stream",
     "text": [
      "✅ Done! Saved to: symptom-disease-test-dataset-final.jsonl\n"
     ]
    }
   ],
   "source": [
    "import pandas as pd\n",
    "import json\n",
    "\n",
    "# Load the CSV\n",
    "df = pd.read_csv('symptom-disease-test-dataset-updated.csv')\n",
    "\n",
    "# Rename columns\n",
    "df = df.rename(columns={'text': 'symptoms', 'label': 'disease'})\n",
    "\n",
    "# Process the 'symptoms' column\n",
    "def clean_symptoms(text):\n",
    "    # Add space after comma, then replace underscores with spaces\n",
    "    text = text.replace(',', ', ').replace('_', ' ')\n",
    "    # Remove any extra spaces\n",
    "    text = ' '.join(text.split())\n",
    "    return text\n",
    "\n",
    "df['symptoms'] = df['symptoms'].apply(clean_symptoms)\n",
    "\n",
    "# Save as JSONL\n",
    "output_path = 'symptom-disease-test-dataset-final.jsonl'\n",
    "with open(output_path, 'w') as f:\n",
    "    for _, row in df.iterrows():\n",
    "        json.dump({'symptoms': row['symptoms'], 'disease': row['disease']}, f)\n",
    "        f.write('\\n')\n",
    "\n",
    "print(f\"✅ Done! Saved to: {output_path}\")"
   ]
  },
  {
   "cell_type": "code",
   "execution_count": 6,
   "id": "a0ca2d21",
   "metadata": {},
   "outputs": [
    {
     "name": "stdout",
     "output_type": "stream",
     "text": [
      "✅ Done! Saved reduced dataset (~300 examples) to: symptom-disease-test-dataset-reduced.jsonl\n"
     ]
    }
   ],
   "source": [
    "import pandas as pd\n",
    "import json\n",
    "import random\n",
    "from collections import defaultdict\n",
    "\n",
    "# Load the JSONL\n",
    "dataset = []\n",
    "with open('symptom-disease-test-dataset-final.jsonl', 'r') as f:\n",
    "    for line in f:\n",
    "        dataset.append(json.loads(line.strip()))\n",
    "\n",
    "# Group by disease\n",
    "disease_to_examples = defaultdict(list)\n",
    "for example in dataset:\n",
    "    disease_to_examples[example['disease']].append(example)\n",
    "\n",
    "# Pick 1 example per disease\n",
    "selected_examples = []\n",
    "for disease, examples in disease_to_examples.items():\n",
    "    selected_examples.append(random.choice(examples))\n",
    "\n",
    "# Now fill up to 300 total\n",
    "remaining = 300 - len(selected_examples)\n",
    "if remaining > 0:\n",
    "    # Get all examples not already selected\n",
    "    already_selected = set((ex['symptoms'], ex['disease']) for ex in selected_examples)\n",
    "    remaining_examples = [ex for ex in dataset if (ex['symptoms'], ex['disease']) not in already_selected]\n",
    "    \n",
    "    # Randomly sample the rest\n",
    "    selected_examples.extend(random.sample(remaining_examples, min(remaining, len(remaining_examples))))\n",
    "\n",
    "# Shuffle the final list (optional, but nice)\n",
    "random.shuffle(selected_examples)\n",
    "\n",
    "# Save to new JSONL\n",
    "output_path = 'symptom-disease-test-dataset-reduced.jsonl'\n",
    "with open(output_path, 'w') as f:\n",
    "    for example in selected_examples:\n",
    "        json.dump(example, f)\n",
    "        f.write('\\n')\n",
    "\n",
    "print(f\"✅ Done! Saved reduced dataset (~{len(selected_examples)} examples) to: {output_path}\")"
   ]
  },
  {
   "cell_type": "code",
   "execution_count": 9,
   "id": "020733e4",
   "metadata": {},
   "outputs": [
    {
     "name": "stdout",
     "output_type": "stream",
     "text": [
      "✅ Finished preprocessing. Saved 183 cleaned examples to symptom-disease-test-cleaned-for-finetuning.jsonl\n"
     ]
    }
   ],
   "source": [
    "import json\n",
    "import re\n",
    "\n",
    "# Load JSONL file\n",
    "def load_jsonl(file_path):\n",
    "    data = []\n",
    "    with open(file_path, 'r', encoding='utf-8') as f:\n",
    "        for line in f:\n",
    "            data.append(json.loads(line))\n",
    "    return data\n",
    "\n",
    "# Save JSONL file\n",
    "def save_jsonl(data, file_path):\n",
    "    with open(file_path, 'w', encoding='utf-8') as f:\n",
    "        for entry in data:\n",
    "            f.write(json.dumps(entry) + '\\n')\n",
    "\n",
    "# Clean text function\n",
    "def clean_symptom_text(text):\n",
    "    text = text.lower()\n",
    "    text = text.replace(' ,', ',')        # remove space before comma\n",
    "    text = text.replace(', ', ',')         # remove extra space after comma\n",
    "    text = re.sub(r'\\s+', ' ', text)       # collapse multiple spaces\n",
    "    text = text.strip()\n",
    "    return text\n",
    "\n",
    "# Clean disease label function\n",
    "def clean_disease_label(label):\n",
    "    return label.lower().strip()\n",
    "\n",
    "# Process full dataset\n",
    "def preprocess_dataset(input_jsonl_path, output_jsonl_path):\n",
    "    dataset = load_jsonl(input_jsonl_path)\n",
    "    cleaned_data = []\n",
    "\n",
    "    for example in dataset:\n",
    "        symptoms_text = example.get('symptoms', '') or example.get('symptoms', '')\n",
    "        disease_label = example.get('disease', '') or example.get('disease', '')\n",
    "\n",
    "        # Clean the text\n",
    "        symptoms_text = clean_symptom_text(symptoms_text)\n",
    "        disease_label = clean_disease_label(disease_label)\n",
    "\n",
    "        # Skip if symptoms text is abnormally long (bad examples)\n",
    "        if len(symptoms_text.split()) > 100:\n",
    "            continue\n",
    "\n",
    "        # Format into ChatGPT fine-tuning messages format\n",
    "        final_entry = {\n",
    "            \"messages\": [\n",
    "                {\n",
    "                    \"role\": \"system\",\n",
    "                    \"content\": \"You are a medical diagnosis assistant tasked with analyzing patient-reported symptoms and suggesting likely diagnoses, along with important missing symptoms.\"\n",
    "                },\n",
    "                {\n",
    "                    \"role\": \"user\",\n",
    "                    \"content\": f\"Patient reports the following symptoms:\\n{symptoms_text}\"\n",
    "                },\n",
    "                {\n",
    "                    \"role\": \"assistant\",\n",
    "                    \"content\": f\"Disease: {disease_label}\"\n",
    "                }\n",
    "            ]\n",
    "        }\n",
    "\n",
    "        cleaned_data.append(final_entry)\n",
    "\n",
    "    save_jsonl(cleaned_data, output_jsonl_path)\n",
    "    print(f\"✅ Finished preprocessing. Saved {len(cleaned_data)} cleaned examples to {output_jsonl_path}\")\n",
    "\n",
    "# 🏁 Example usage:\n",
    "preprocess_dataset(\n",
    "    input_jsonl_path='symptom-disease-test-dataset-reduced.jsonl',     # your current uploaded file\n",
    "    output_jsonl_path='symptom-disease-test-cleaned-for-finetuning.jsonl'  # output fine-tuning file\n",
    ")"
   ]
  }
 ],
 "metadata": {
  "kernelspec": {
   "display_name": "Python 3 (ipykernel)",
   "language": "python",
   "name": "python3"
  },
  "language_info": {
   "codemirror_mode": {
    "name": "ipython",
    "version": 3
   },
   "file_extension": ".py",
   "mimetype": "text/x-python",
   "name": "python",
   "nbconvert_exporter": "python",
   "pygments_lexer": "ipython3",
   "version": "3.9.12"
  }
 },
 "nbformat": 4,
 "nbformat_minor": 5
}
